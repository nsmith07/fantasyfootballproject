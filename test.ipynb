{
 "cells": [
  {
   "cell_type": "code",
   "execution_count": 2,
   "metadata": {},
   "outputs": [],
   "source": [
    "import pandas as pd\n",
    "\n",
    "# Load the first CSV file\n",
    "df1 = pd.read_csv('fantasyfootball.csv')\n",
    "\n",
    "# Load the second CSV file\n",
    "df2 = pd.read_csv('fantasyfootballrank.csv')\n",
    "\n",
    "# Join the two dataframes using the 'Player' column\n",
    "merged_df = pd.merge(df1, df2, on='Player')\n",
    "\n",
    "# Save the merged dataframe to a new CSV file\n",
    "merged_df.to_csv('merged_file.csv', index=False)"
   ]
  }
 ],
 "metadata": {
  "kernelspec": {
   "display_name": "Python 3",
   "language": "python",
   "name": "python3"
  },
  "language_info": {
   "codemirror_mode": {
    "name": "ipython",
    "version": 3
   },
   "file_extension": ".py",
   "mimetype": "text/x-python",
   "name": "python",
   "nbconvert_exporter": "python",
   "pygments_lexer": "ipython3",
   "version": "3.9.11"
  },
  "orig_nbformat": 4,
  "vscode": {
   "interpreter": {
    "hash": "c75b63368dd77fbc57c73c0b1b17c77deec208bebb7d867a47600e27cfbb9ada"
   }
  }
 },
 "nbformat": 4,
 "nbformat_minor": 2
}
